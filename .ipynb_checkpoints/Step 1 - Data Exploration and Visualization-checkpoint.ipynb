{
 "cells": [
  {
   "cell_type": "markdown",
   "id": "d1a90854",
   "metadata": {},
   "source": [
    "# Udacity Machine Learning Capstone Project\n",
    "\n",
    "## Data Exploration\n",
    "\n",
    "In this section we will start by loading our datasets and visualize them to look at the distribution and feature available. This step will help us to select the most relevant data for our model."
   ]
  },
  {
   "cell_type": "code",
   "execution_count": 2,
   "id": "d30214dc",
   "metadata": {},
   "outputs": [],
   "source": [
    "# Import Libraries\n",
    "\n",
    "import pandas as pd\n",
    "import matplotlib.pyplot as plt\n",
    "import numpy as np\n",
    "import os"
   ]
  },
  {
   "cell_type": "markdown",
   "id": "9be83a5b",
   "metadata": {},
   "source": [
    "## Datasets :\n",
    "\n",
    "- Bitcoin Price (./datasets/COIN_BTC.csv)\n",
    "- Tweets (./datasets/tweets.csv available https://www.kaggle.com/alaix14/bitcoin-tweets-20160101-to-20190329)\n",
    "\n",
    "### Bitcoin Price\n",
    "\n",
    "We will first look at the Bitcoin Price datasets. The aim of this model is to predict if the price will go up or down based on the tweets of the day before. So we will be looking at the 24h price change (percent_change_24h). "
   ]
  },
  {
   "cell_type": "code",
   "execution_count": 3,
   "id": "47cc29ff",
   "metadata": {},
   "outputs": [],
   "source": [
    "dataset_folder = 'datasets'\n",
    "filename_coin = 'COIN_BTC.csv'\n",
    "\n",
    "df_coin = pd.read_csv(os.path.join(dataset_folder, filename_coin))"
   ]
  },
  {
   "cell_type": "code",
   "execution_count": 4,
   "id": "771cd131",
   "metadata": {},
   "outputs": [
    {
     "data": {
      "text/html": [
       "<div>\n",
       "<style scoped>\n",
       "    .dataframe tbody tr th:only-of-type {\n",
       "        vertical-align: middle;\n",
       "    }\n",
       "\n",
       "    .dataframe tbody tr th {\n",
       "        vertical-align: top;\n",
       "    }\n",
       "\n",
       "    .dataframe thead th {\n",
       "        text-align: right;\n",
       "    }\n",
       "</style>\n",
       "<table border=\"1\" class=\"dataframe\">\n",
       "  <thead>\n",
       "    <tr style=\"text-align: right;\">\n",
       "      <th></th>\n",
       "      <th>date</th>\n",
       "      <th>cmc_rank</th>\n",
       "      <th>slug</th>\n",
       "      <th>symbol</th>\n",
       "      <th>market_cap</th>\n",
       "      <th>price</th>\n",
       "      <th>circulating_supply</th>\n",
       "      <th>volume_24h</th>\n",
       "      <th>percent_change_1h</th>\n",
       "      <th>percent_change_24h</th>\n",
       "      <th>percent_change_7d</th>\n",
       "    </tr>\n",
       "  </thead>\n",
       "  <tbody>\n",
       "    <tr>\n",
       "      <th>0</th>\n",
       "      <td>02/02/2014</td>\n",
       "      <td>1</td>\n",
       "      <td>Bitcoin</td>\n",
       "      <td>BTC</td>\n",
       "      <td>10190038594</td>\n",
       "      <td>825.37</td>\n",
       "      <td>12346025</td>\n",
       "      <td>11300875.0</td>\n",
       "      <td>-0.03</td>\n",
       "      <td>-1.25</td>\n",
       "      <td>-6.75</td>\n",
       "    </tr>\n",
       "    <tr>\n",
       "      <th>1</th>\n",
       "      <td>03/02/2014</td>\n",
       "      <td>1</td>\n",
       "      <td>Bitcoin</td>\n",
       "      <td>BTC</td>\n",
       "      <td>10174774413</td>\n",
       "      <td>823.83</td>\n",
       "      <td>12350575</td>\n",
       "      <td>13940069.0</td>\n",
       "      <td>0.09</td>\n",
       "      <td>-0.11</td>\n",
       "      <td>4.26</td>\n",
       "    </tr>\n",
       "    <tr>\n",
       "      <th>2</th>\n",
       "      <td>04/02/2014</td>\n",
       "      <td>1</td>\n",
       "      <td>Bitcoin</td>\n",
       "      <td>BTC</td>\n",
       "      <td>10229342576</td>\n",
       "      <td>827.96</td>\n",
       "      <td>12354875</td>\n",
       "      <td>16609697.0</td>\n",
       "      <td>-0.13</td>\n",
       "      <td>0.56</td>\n",
       "      <td>1.10</td>\n",
       "    </tr>\n",
       "    <tr>\n",
       "      <th>3</th>\n",
       "      <td>05/02/2014</td>\n",
       "      <td>1</td>\n",
       "      <td>Bitcoin</td>\n",
       "      <td>BTC</td>\n",
       "      <td>10034435954</td>\n",
       "      <td>811.91</td>\n",
       "      <td>12359050</td>\n",
       "      <td>22395116.0</td>\n",
       "      <td>-1.47</td>\n",
       "      <td>-2.08</td>\n",
       "      <td>-1.59</td>\n",
       "    </tr>\n",
       "    <tr>\n",
       "      <th>4</th>\n",
       "      <td>06/02/2014</td>\n",
       "      <td>1</td>\n",
       "      <td>Bitcoin</td>\n",
       "      <td>BTC</td>\n",
       "      <td>9662790968</td>\n",
       "      <td>781.55</td>\n",
       "      <td>12363625</td>\n",
       "      <td>50108744.0</td>\n",
       "      <td>0.07</td>\n",
       "      <td>-4.19</td>\n",
       "      <td>-4.68</td>\n",
       "    </tr>\n",
       "  </tbody>\n",
       "</table>\n",
       "</div>"
      ],
      "text/plain": [
       "         date  cmc_rank         slug       symbol   market_cap   price  \\\n",
       "0  02/02/2014         1      Bitcoin          BTC  10190038594  825.37   \n",
       "1  03/02/2014         1      Bitcoin          BTC  10174774413  823.83   \n",
       "2  04/02/2014         1      Bitcoin          BTC  10229342576  827.96   \n",
       "3  05/02/2014         1      Bitcoin          BTC  10034435954  811.91   \n",
       "4  06/02/2014         1      Bitcoin          BTC   9662790968  781.55   \n",
       "\n",
       "   circulating_supply  volume_24h  percent_change_1h  percent_change_24h  \\\n",
       "0            12346025  11300875.0              -0.03               -1.25   \n",
       "1            12350575  13940069.0               0.09               -0.11   \n",
       "2            12354875  16609697.0              -0.13                0.56   \n",
       "3            12359050  22395116.0              -1.47               -2.08   \n",
       "4            12363625  50108744.0               0.07               -4.19   \n",
       "\n",
       "   percent_change_7d  \n",
       "0              -6.75  \n",
       "1               4.26  \n",
       "2               1.10  \n",
       "3              -1.59  \n",
       "4              -4.68  "
      ]
     },
     "execution_count": 4,
     "metadata": {},
     "output_type": "execute_result"
    }
   ],
   "source": [
    "df_coin.head()"
   ]
  },
  {
   "cell_type": "code",
   "execution_count": 5,
   "id": "6100daeb",
   "metadata": {},
   "outputs": [
    {
     "data": {
      "text/html": [
       "<div>\n",
       "<style scoped>\n",
       "    .dataframe tbody tr th:only-of-type {\n",
       "        vertical-align: middle;\n",
       "    }\n",
       "\n",
       "    .dataframe tbody tr th {\n",
       "        vertical-align: top;\n",
       "    }\n",
       "\n",
       "    .dataframe thead th {\n",
       "        text-align: right;\n",
       "    }\n",
       "</style>\n",
       "<table border=\"1\" class=\"dataframe\">\n",
       "  <thead>\n",
       "    <tr style=\"text-align: right;\">\n",
       "      <th></th>\n",
       "      <th>date</th>\n",
       "      <th>cmc_rank</th>\n",
       "      <th>slug</th>\n",
       "      <th>symbol</th>\n",
       "      <th>market_cap</th>\n",
       "      <th>price</th>\n",
       "      <th>circulating_supply</th>\n",
       "      <th>volume_24h</th>\n",
       "      <th>percent_change_1h</th>\n",
       "      <th>percent_change_24h</th>\n",
       "      <th>percent_change_7d</th>\n",
       "    </tr>\n",
       "  </thead>\n",
       "  <tbody>\n",
       "    <tr>\n",
       "      <th>2631</th>\n",
       "      <td>08/03/2021</td>\n",
       "      <td>1</td>\n",
       "      <td>Bitcoin</td>\n",
       "      <td>BTC</td>\n",
       "      <td>974321883623</td>\n",
       "      <td>52246.52</td>\n",
       "      <td>18648550</td>\n",
       "      <td>4.859743e+10</td>\n",
       "      <td>1.34</td>\n",
       "      <td>2.03</td>\n",
       "      <td>5.27</td>\n",
       "    </tr>\n",
       "    <tr>\n",
       "      <th>2632</th>\n",
       "      <td>09/03/2021</td>\n",
       "      <td>1</td>\n",
       "      <td>Bitcoin</td>\n",
       "      <td>BTC</td>\n",
       "      <td>1022439972862</td>\n",
       "      <td>54824.12</td>\n",
       "      <td>18649456</td>\n",
       "      <td>5.091223e+10</td>\n",
       "      <td>0.08</td>\n",
       "      <td>4.93</td>\n",
       "      <td>13.32</td>\n",
       "    </tr>\n",
       "    <tr>\n",
       "      <th>2633</th>\n",
       "      <td>10/03/2021</td>\n",
       "      <td>1</td>\n",
       "      <td>Bitcoin</td>\n",
       "      <td>BTC</td>\n",
       "      <td>1044580057477</td>\n",
       "      <td>56008.55</td>\n",
       "      <td>18650368</td>\n",
       "      <td>5.729558e+10</td>\n",
       "      <td>-1.64</td>\n",
       "      <td>2.16</td>\n",
       "      <td>10.82</td>\n",
       "    </tr>\n",
       "    <tr>\n",
       "      <th>2634</th>\n",
       "      <td>11/03/2021</td>\n",
       "      <td>1</td>\n",
       "      <td>Bitcoin</td>\n",
       "      <td>BTC</td>\n",
       "      <td>1078135604118</td>\n",
       "      <td>57805.12</td>\n",
       "      <td>18651212</td>\n",
       "      <td>5.677234e+10</td>\n",
       "      <td>-0.19</td>\n",
       "      <td>3.21</td>\n",
       "      <td>19.04</td>\n",
       "    </tr>\n",
       "    <tr>\n",
       "      <th>2635</th>\n",
       "      <td>12/03/2021</td>\n",
       "      <td>1</td>\n",
       "      <td>Bitcoin</td>\n",
       "      <td>BTC</td>\n",
       "      <td>1069366321844</td>\n",
       "      <td>57332.09</td>\n",
       "      <td>18652143</td>\n",
       "      <td>5.568994e+10</td>\n",
       "      <td>0.22</td>\n",
       "      <td>-0.82</td>\n",
       "      <td>17.18</td>\n",
       "    </tr>\n",
       "  </tbody>\n",
       "</table>\n",
       "</div>"
      ],
      "text/plain": [
       "            date  cmc_rank           slug         symbol     market_cap  \\\n",
       "2631  08/03/2021         1        Bitcoin            BTC   974321883623   \n",
       "2632  09/03/2021         1        Bitcoin            BTC  1022439972862   \n",
       "2633  10/03/2021         1        Bitcoin            BTC  1044580057477   \n",
       "2634  11/03/2021         1        Bitcoin            BTC  1078135604118   \n",
       "2635  12/03/2021         1        Bitcoin            BTC  1069366321844   \n",
       "\n",
       "         price  circulating_supply    volume_24h  percent_change_1h  \\\n",
       "2631  52246.52            18648550  4.859743e+10               1.34   \n",
       "2632  54824.12            18649456  5.091223e+10               0.08   \n",
       "2633  56008.55            18650368  5.729558e+10              -1.64   \n",
       "2634  57805.12            18651212  5.677234e+10              -0.19   \n",
       "2635  57332.09            18652143  5.568994e+10               0.22   \n",
       "\n",
       "      percent_change_24h  percent_change_7d  \n",
       "2631                2.03               5.27  \n",
       "2632                4.93              13.32  \n",
       "2633                2.16              10.82  \n",
       "2634                3.21              19.04  \n",
       "2635               -0.82              17.18  "
      ]
     },
     "execution_count": 5,
     "metadata": {},
     "output_type": "execute_result"
    }
   ],
   "source": [
    "df_coin.tail()"
   ]
  },
  {
   "cell_type": "code",
   "execution_count": 6,
   "id": "e798fb93",
   "metadata": {},
   "outputs": [
    {
     "data": {
      "text/html": [
       "<div>\n",
       "<style scoped>\n",
       "    .dataframe tbody tr th:only-of-type {\n",
       "        vertical-align: middle;\n",
       "    }\n",
       "\n",
       "    .dataframe tbody tr th {\n",
       "        vertical-align: top;\n",
       "    }\n",
       "\n",
       "    .dataframe thead th {\n",
       "        text-align: right;\n",
       "    }\n",
       "</style>\n",
       "<table border=\"1\" class=\"dataframe\">\n",
       "  <thead>\n",
       "    <tr style=\"text-align: right;\">\n",
       "      <th></th>\n",
       "      <th>cmc_rank</th>\n",
       "      <th>market_cap</th>\n",
       "      <th>price</th>\n",
       "      <th>circulating_supply</th>\n",
       "      <th>volume_24h</th>\n",
       "      <th>percent_change_1h</th>\n",
       "      <th>percent_change_24h</th>\n",
       "      <th>percent_change_7d</th>\n",
       "    </tr>\n",
       "  </thead>\n",
       "  <tbody>\n",
       "    <tr>\n",
       "      <th>count</th>\n",
       "      <td>2636.0</td>\n",
       "      <td>2.636000e+03</td>\n",
       "      <td>2636.000000</td>\n",
       "      <td>2.636000e+03</td>\n",
       "      <td>2.636000e+03</td>\n",
       "      <td>2636.000000</td>\n",
       "      <td>2636.000000</td>\n",
       "      <td>2636.000000</td>\n",
       "    </tr>\n",
       "    <tr>\n",
       "      <th>mean</th>\n",
       "      <td>1.0</td>\n",
       "      <td>9.742015e+10</td>\n",
       "      <td>5481.743790</td>\n",
       "      <td>1.614905e+07</td>\n",
       "      <td>5.449159e+11</td>\n",
       "      <td>0.001385</td>\n",
       "      <td>0.179450</td>\n",
       "      <td>1.509621</td>\n",
       "    </tr>\n",
       "    <tr>\n",
       "      <th>std</th>\n",
       "      <td>0.0</td>\n",
       "      <td>1.446578e+11</td>\n",
       "      <td>7809.864979</td>\n",
       "      <td>1.847997e+06</td>\n",
       "      <td>2.746627e+13</td>\n",
       "      <td>0.822845</td>\n",
       "      <td>3.836825</td>\n",
       "      <td>10.620501</td>\n",
       "    </tr>\n",
       "    <tr>\n",
       "      <th>min</th>\n",
       "      <td>1.0</td>\n",
       "      <td>2.444375e+09</td>\n",
       "      <td>178.100000</td>\n",
       "      <td>1.234602e+07</td>\n",
       "      <td>2.857834e+06</td>\n",
       "      <td>-15.890000</td>\n",
       "      <td>-37.140000</td>\n",
       "      <td>-45.310000</td>\n",
       "    </tr>\n",
       "    <tr>\n",
       "      <th>25%</th>\n",
       "      <td>1.0</td>\n",
       "      <td>6.754451e+09</td>\n",
       "      <td>472.905000</td>\n",
       "      <td>1.471144e+07</td>\n",
       "      <td>4.570815e+07</td>\n",
       "      <td>-0.180000</td>\n",
       "      <td>-1.250000</td>\n",
       "      <td>-4.192500</td>\n",
       "    </tr>\n",
       "    <tr>\n",
       "      <th>50%</th>\n",
       "      <td>1.0</td>\n",
       "      <td>4.663255e+10</td>\n",
       "      <td>2843.505000</td>\n",
       "      <td>1.648004e+07</td>\n",
       "      <td>1.437850e+09</td>\n",
       "      <td>0.010000</td>\n",
       "      <td>0.160000</td>\n",
       "      <td>0.675000</td>\n",
       "    </tr>\n",
       "    <tr>\n",
       "      <th>75%</th>\n",
       "      <td>1.0</td>\n",
       "      <td>1.468193e+11</td>\n",
       "      <td>8293.980000</td>\n",
       "      <td>1.771492e+07</td>\n",
       "      <td>1.524146e+10</td>\n",
       "      <td>0.220000</td>\n",
       "      <td>1.650000</td>\n",
       "      <td>6.465000</td>\n",
       "    </tr>\n",
       "    <tr>\n",
       "      <th>max</th>\n",
       "      <td>1.0</td>\n",
       "      <td>1.078136e+12</td>\n",
       "      <td>57805.120000</td>\n",
       "      <td>1.865214e+07</td>\n",
       "      <td>1.410183e+15</td>\n",
       "      <td>5.350000</td>\n",
       "      <td>24.890000</td>\n",
       "      <td>79.700000</td>\n",
       "    </tr>\n",
       "  </tbody>\n",
       "</table>\n",
       "</div>"
      ],
      "text/plain": [
       "       cmc_rank    market_cap         price  circulating_supply    volume_24h  \\\n",
       "count    2636.0  2.636000e+03   2636.000000        2.636000e+03  2.636000e+03   \n",
       "mean        1.0  9.742015e+10   5481.743790        1.614905e+07  5.449159e+11   \n",
       "std         0.0  1.446578e+11   7809.864979        1.847997e+06  2.746627e+13   \n",
       "min         1.0  2.444375e+09    178.100000        1.234602e+07  2.857834e+06   \n",
       "25%         1.0  6.754451e+09    472.905000        1.471144e+07  4.570815e+07   \n",
       "50%         1.0  4.663255e+10   2843.505000        1.648004e+07  1.437850e+09   \n",
       "75%         1.0  1.468193e+11   8293.980000        1.771492e+07  1.524146e+10   \n",
       "max         1.0  1.078136e+12  57805.120000        1.865214e+07  1.410183e+15   \n",
       "\n",
       "       percent_change_1h  percent_change_24h  percent_change_7d  \n",
       "count        2636.000000         2636.000000        2636.000000  \n",
       "mean            0.001385            0.179450           1.509621  \n",
       "std             0.822845            3.836825          10.620501  \n",
       "min           -15.890000          -37.140000         -45.310000  \n",
       "25%            -0.180000           -1.250000          -4.192500  \n",
       "50%             0.010000            0.160000           0.675000  \n",
       "75%             0.220000            1.650000           6.465000  \n",
       "max             5.350000           24.890000          79.700000  "
      ]
     },
     "execution_count": 6,
     "metadata": {},
     "output_type": "execute_result"
    }
   ],
   "source": [
    "df_coin.describe()\n"
   ]
  },
  {
   "cell_type": "code",
   "execution_count": 7,
   "id": "92addbd8",
   "metadata": {},
   "outputs": [
    {
     "name": "stdout",
     "output_type": "stream",
     "text": [
      "date                  0\n",
      "cmc_rank              0\n",
      "slug                  0\n",
      "symbol                0\n",
      "market_cap            0\n",
      "price                 0\n",
      "circulating_supply    0\n",
      "volume_24h            0\n",
      "percent_change_1h     0\n",
      "percent_change_24h    0\n",
      "percent_change_7d     0\n",
      "dtype: int64\n"
     ]
    }
   ],
   "source": [
    "print(df_coin.isnull().sum(axis = 0))"
   ]
  },
  {
   "cell_type": "markdown",
   "id": "45cd960f",
   "metadata": {},
   "source": [
    "## Comments\n",
    "\n",
    "There are 8 parameters available but we are mainly interested about the percent_change_24h as the goal of this model is to predict if the price will go up or down. So we will focus our attention on this column.\n",
    "\n",
    "There are no missing values. We can noticed that the price of Bitcoin is very volatile as we can see changes of -37% or 24.9% in a single day."
   ]
  },
  {
   "cell_type": "code",
   "execution_count": 8,
   "id": "8585ae2b",
   "metadata": {},
   "outputs": [
    {
     "data": {
      "text/plain": [
       "(array([  1.,   0.,   0.,   0.,   0.,   0.,   0.,   0.,   3.,   3.,   4.,\n",
       "          4.,  15.,  32.,  61., 124., 243., 771., 829., 285., 138.,  55.,\n",
       "         31.,  17.,   7.,   6.,   2.,   3.,   0.,   2.]),\n",
       " array([-37.14      , -35.07233333, -33.00466667, -30.937     ,\n",
       "        -28.86933333, -26.80166667, -24.734     , -22.66633333,\n",
       "        -20.59866667, -18.531     , -16.46333333, -14.39566667,\n",
       "        -12.328     , -10.26033333,  -8.19266667,  -6.125     ,\n",
       "         -4.05733333,  -1.98966667,   0.078     ,   2.14566667,\n",
       "          4.21333333,   6.281     ,   8.34866667,  10.41633333,\n",
       "         12.484     ,  14.55166667,  16.61933333,  18.687     ,\n",
       "         20.75466667,  22.82233333,  24.89      ]),\n",
       " <BarContainer object of 30 artists>)"
      ]
     },
     "execution_count": 8,
     "metadata": {},
     "output_type": "execute_result"
    },
    {
     "data": {
      "image/png": "[encoded data removed]",
      "text/plain": [
       "<Figure size 432x288 with 1 Axes>"
      ]
     },
     "metadata": {
      "needs_background": "light"
     },
     "output_type": "display_data"
    }
   ],
   "source": [
    "f, ax = plt.subplots()\n",
    "ax.hist(df_coin['percent_change_24h'], bins = 30, edgecolor = 'black')\n",
    "\n"
   ]
  },
  {
   "cell_type": "code",
   "execution_count": 9,
   "id": "79a6a8fe",
   "metadata": {},
   "outputs": [
    {
     "data": {
      "text/plain": [
       "<AxesSubplot:title={'center':'Bitcoin Price \\n UP = 1 / DOWN = 0'}>"
      ]
     },
     "execution_count": 9,
     "metadata": {},
     "output_type": "execute_result"
    },
    {
     "data": {
      "image/png": "[encoded data removed]",
      "text/plain": [
       "<Figure size 432x288 with 1 Axes>"
      ]
     },
     "metadata": {
      "needs_background": "light"
     },
     "output_type": "display_data"
    }
   ],
   "source": [
    "df_coin['UP OR DOWN'] = df_coin.apply(lambda row: 1 if row['percent_change_24h'] > 0 else 0, axis = 1)\n",
    "\n",
    "df_coin['UP OR DOWN'].value_counts().plot(kind='bar', \n",
    "                                     title='Bitcoin Price \\n UP = 1 / DOWN = 0')"
   ]
  },
  {
   "cell_type": "code",
   "execution_count": 10,
   "id": "3432f2f6",
   "metadata": {},
   "outputs": [
    {
     "data": {
      "text/plain": [
       "1    1416\n",
       "0    1220\n",
       "Name: UP OR DOWN, dtype: int64"
      ]
     },
     "execution_count": 10,
     "metadata": {},
     "output_type": "execute_result"
    }
   ],
   "source": [
    "df_coin['UP OR DOWN'].value_counts()"
   ]
  },
  {
   "cell_type": "code",
   "execution_count": 11,
   "id": "41ac01e5",
   "metadata": {},
   "outputs": [
    {
     "data": {
      "text/plain": [
       "0.5371775417298937"
      ]
     },
     "execution_count": 11,
     "metadata": {},
     "output_type": "execute_result"
    }
   ],
   "source": [
    "price_up_count = df_coin['UP OR DOWN'].value_counts()[1]\n",
    "price_down_count = df_coin['UP OR DOWN'].value_counts()[0]\n",
    "price_up_percent = price_up_count / (price_up_count + price_down_count)\n",
    "\n",
    "price_up_percent"
   ]
  },
  {
   "cell_type": "markdown",
   "id": "cde1cebf",
   "metadata": {},
   "source": [
    "## Comments\n",
    "\n",
    "Bitcoin price is going up 53.7% of the time and down 46.3% of the time for the period of data available."
   ]
  },
  {
   "cell_type": "markdown",
   "id": "42438963",
   "metadata": {},
   "source": [
    "## Tweets¶\n",
    "We will now be looking at the second datasets which consist of 14M tweets scrapped from twitters between 1/1/2016 and 29/3/2019. The aim of this model is to predict if the price will go up or down based on the tweets of the day before. So we will be looking at the 24h price change (percent_change_24h)."
   ]
  },
  {
   "cell_type": "code",
   "execution_count": 12,
   "id": "57b9538d",
   "metadata": {},
   "outputs": [
    {
     "name": "stderr",
     "output_type": "stream",
     "text": [
      "c:\\users\\matde\\appdata\\local\\programs\\python\\python39\\lib\\site-packages\\IPython\\core\\interactiveshell.py:3155: DtypeWarning: Columns (3) have mixed types.Specify dtype option on import or set low_memory=False.\n",
      "  has_raised = await self.run_ast_nodes(code_ast.body, cell_name,\n"
     ]
    }
   ],
   "source": [
    "dataset_folder = 'datasets'\n",
    "filename_tweets = 'tweets.csv'\n",
    "\n",
    "df_tweets = pd.read_csv(os.path.join(dataset_folder, filename_tweets), delimiter=';', skiprows=0, lineterminator='\\n' )\n",
    "\n",
    "#f = open(os.path.join(dataset_folder, filename_tweets), encoding='utf8')"
   ]
  },
  {
   "cell_type": "code",
   "execution_count": 13,
   "id": "d20c6c7e",
   "metadata": {},
   "outputs": [
    {
     "data": {
      "text/html": [
       "<div>\n",
       "<style scoped>\n",
       "    .dataframe tbody tr th:only-of-type {\n",
       "        vertical-align: middle;\n",
       "    }\n",
       "\n",
       "    .dataframe tbody tr th {\n",
       "        vertical-align: top;\n",
       "    }\n",
       "\n",
       "    .dataframe thead th {\n",
       "        text-align: right;\n",
       "    }\n",
       "</style>\n",
       "<table border=\"1\" class=\"dataframe\">\n",
       "  <thead>\n",
       "    <tr style=\"text-align: right;\">\n",
       "      <th></th>\n",
       "      <th>id</th>\n",
       "      <th>user</th>\n",
       "      <th>fullname</th>\n",
       "      <th>url</th>\n",
       "      <th>timestamp</th>\n",
       "      <th>replies</th>\n",
       "      <th>likes</th>\n",
       "      <th>retweets</th>\n",
       "      <th>text\\r</th>\n",
       "    </tr>\n",
       "  </thead>\n",
       "  <tbody>\n",
       "    <tr>\n",
       "      <th>0</th>\n",
       "      <td>1.132977e+18</td>\n",
       "      <td>KamdemAbdiel</td>\n",
       "      <td>Abdiel kamdem</td>\n",
       "      <td>NaN</td>\n",
       "      <td>2019-05-27 11:49:14+00</td>\n",
       "      <td>0</td>\n",
       "      <td>0</td>\n",
       "      <td>0</td>\n",
       "      <td>È appena uscito un nuovo video! LES CRYPTOMONN...</td>\n",
       "    </tr>\n",
       "    <tr>\n",
       "      <th>1</th>\n",
       "      <td>1.132977e+18</td>\n",
       "      <td>bitcointe</td>\n",
       "      <td>Bitcointe</td>\n",
       "      <td>NaN</td>\n",
       "      <td>2019-05-27 11:49:18+00</td>\n",
       "      <td>0</td>\n",
       "      <td>0</td>\n",
       "      <td>0</td>\n",
       "      <td>Cardano: Digitize Currencies; EOS https://t.co...</td>\n",
       "    </tr>\n",
       "    <tr>\n",
       "      <th>2</th>\n",
       "      <td>1.132977e+18</td>\n",
       "      <td>3eyedbran</td>\n",
       "      <td>Bran - 3 Eyed Raven</td>\n",
       "      <td>NaN</td>\n",
       "      <td>2019-05-27 11:49:06+00</td>\n",
       "      <td>0</td>\n",
       "      <td>2</td>\n",
       "      <td>1</td>\n",
       "      <td>Another Test tweet that wasn't caught in the s...</td>\n",
       "    </tr>\n",
       "    <tr>\n",
       "      <th>3</th>\n",
       "      <td>1.132977e+18</td>\n",
       "      <td>DetroitCrypto</td>\n",
       "      <td>J. Scardina</td>\n",
       "      <td>NaN</td>\n",
       "      <td>2019-05-27 11:49:22+00</td>\n",
       "      <td>0</td>\n",
       "      <td>0</td>\n",
       "      <td>0</td>\n",
       "      <td>Current Crypto Prices! \\n\\nBTC: $8721.99 USD\\n...</td>\n",
       "    </tr>\n",
       "    <tr>\n",
       "      <th>4</th>\n",
       "      <td>1.132977e+18</td>\n",
       "      <td>mmursaleen72</td>\n",
       "      <td>Muhammad Mursaleen</td>\n",
       "      <td>NaN</td>\n",
       "      <td>2019-05-27 11:49:23+00</td>\n",
       "      <td>0</td>\n",
       "      <td>0</td>\n",
       "      <td>0</td>\n",
       "      <td>Spiv (Nosar Baz): BITCOIN Is An Asset &amp;amp; NO...</td>\n",
       "    </tr>\n",
       "  </tbody>\n",
       "</table>\n",
       "</div>"
      ],
      "text/plain": [
       "             id           user             fullname  url  \\\n",
       "0  1.132977e+18   KamdemAbdiel        Abdiel kamdem  NaN   \n",
       "1  1.132977e+18      bitcointe            Bitcointe  NaN   \n",
       "2  1.132977e+18      3eyedbran  Bran - 3 Eyed Raven  NaN   \n",
       "3  1.132977e+18  DetroitCrypto          J. Scardina  NaN   \n",
       "4  1.132977e+18   mmursaleen72   Muhammad Mursaleen  NaN   \n",
       "\n",
       "                timestamp  replies  likes  retweets  \\\n",
       "0  2019-05-27 11:49:14+00        0      0         0   \n",
       "1  2019-05-27 11:49:18+00        0      0         0   \n",
       "2  2019-05-27 11:49:06+00        0      2         1   \n",
       "3  2019-05-27 11:49:22+00        0      0         0   \n",
       "4  2019-05-27 11:49:23+00        0      0         0   \n",
       "\n",
       "                                              text\\r  \n",
       "0  È appena uscito un nuovo video! LES CRYPTOMONN...  \n",
       "1  Cardano: Digitize Currencies; EOS https://t.co...  \n",
       "2  Another Test tweet that wasn't caught in the s...  \n",
       "3  Current Crypto Prices! \\n\\nBTC: $8721.99 USD\\n...  \n",
       "4  Spiv (Nosar Baz): BITCOIN Is An Asset &amp; NO...  "
      ]
     },
     "execution_count": 13,
     "metadata": {},
     "output_type": "execute_result"
    }
   ],
   "source": [
    "df_tweets.head()"
   ]
  },
  {
   "cell_type": "code",
   "execution_count": 14,
   "id": "a4d07123",
   "metadata": {},
   "outputs": [
    {
     "data": {
      "text/plain": [
       "(16889765, 9)"
      ]
     },
     "execution_count": 14,
     "metadata": {},
     "output_type": "execute_result"
    }
   ],
   "source": [
    "df_tweets.shape"
   ]
  },
  {
   "cell_type": "markdown",
   "id": "35447a75",
   "metadata": {},
   "source": [
    "## Comments\n",
    "\n",
    "The datasets containt more than 16M lines and have 9 columns. We can also notice that some of the tweets are not in english. As we only want to get the daily sentiment of all the tweets for a particular date we will only keep the following columns:\n",
    "- timestamp\n",
    "- replies\n",
    "- likes \n",
    "- retweets\n",
    "- text\\r\n",
    "\n",
    "Assuming that the overall sentiment will be the same for all the different language - we will only keep the tweets that are in english. (This would require further analysis to confirm this hypothesis)"
   ]
  },
  {
   "cell_type": "code",
   "execution_count": 15,
   "id": "968dbca3",
   "metadata": {},
   "outputs": [],
   "source": [
    "df_tweets = df_tweets[['timestamp','replies','likes','retweets','text\\r']]"
   ]
  },
  {
   "cell_type": "code",
   "execution_count": 16,
   "id": "aceff1e3",
   "metadata": {},
   "outputs": [
    {
     "data": {
      "text/html": [
       "<div>\n",
       "<style scoped>\n",
       "    .dataframe tbody tr th:only-of-type {\n",
       "        vertical-align: middle;\n",
       "    }\n",
       "\n",
       "    .dataframe tbody tr th {\n",
       "        vertical-align: top;\n",
       "    }\n",
       "\n",
       "    .dataframe thead th {\n",
       "        text-align: right;\n",
       "    }\n",
       "</style>\n",
       "<table border=\"1\" class=\"dataframe\">\n",
       "  <thead>\n",
       "    <tr style=\"text-align: right;\">\n",
       "      <th></th>\n",
       "      <th>timestamp</th>\n",
       "      <th>replies</th>\n",
       "      <th>likes</th>\n",
       "      <th>retweets</th>\n",
       "      <th>text\\r</th>\n",
       "    </tr>\n",
       "  </thead>\n",
       "  <tbody>\n",
       "    <tr>\n",
       "      <th>0</th>\n",
       "      <td>2019-05-27 11:49:14+00</td>\n",
       "      <td>0</td>\n",
       "      <td>0</td>\n",
       "      <td>0</td>\n",
       "      <td>È appena uscito un nuovo video! LES CRYPTOMONN...</td>\n",
       "    </tr>\n",
       "    <tr>\n",
       "      <th>1</th>\n",
       "      <td>2019-05-27 11:49:18+00</td>\n",
       "      <td>0</td>\n",
       "      <td>0</td>\n",
       "      <td>0</td>\n",
       "      <td>Cardano: Digitize Currencies; EOS https://t.co...</td>\n",
       "    </tr>\n",
       "    <tr>\n",
       "      <th>2</th>\n",
       "      <td>2019-05-27 11:49:06+00</td>\n",
       "      <td>0</td>\n",
       "      <td>2</td>\n",
       "      <td>1</td>\n",
       "      <td>Another Test tweet that wasn't caught in the s...</td>\n",
       "    </tr>\n",
       "    <tr>\n",
       "      <th>3</th>\n",
       "      <td>2019-05-27 11:49:22+00</td>\n",
       "      <td>0</td>\n",
       "      <td>0</td>\n",
       "      <td>0</td>\n",
       "      <td>Current Crypto Prices! \\n\\nBTC: $8721.99 USD\\n...</td>\n",
       "    </tr>\n",
       "    <tr>\n",
       "      <th>4</th>\n",
       "      <td>2019-05-27 11:49:23+00</td>\n",
       "      <td>0</td>\n",
       "      <td>0</td>\n",
       "      <td>0</td>\n",
       "      <td>Spiv (Nosar Baz): BITCOIN Is An Asset &amp;amp; NO...</td>\n",
       "    </tr>\n",
       "  </tbody>\n",
       "</table>\n",
       "</div>"
      ],
      "text/plain": [
       "                timestamp  replies  likes  retweets  \\\n",
       "0  2019-05-27 11:49:14+00        0      0         0   \n",
       "1  2019-05-27 11:49:18+00        0      0         0   \n",
       "2  2019-05-27 11:49:06+00        0      2         1   \n",
       "3  2019-05-27 11:49:22+00        0      0         0   \n",
       "4  2019-05-27 11:49:23+00        0      0         0   \n",
       "\n",
       "                                              text\\r  \n",
       "0  È appena uscito un nuovo video! LES CRYPTOMONN...  \n",
       "1  Cardano: Digitize Currencies; EOS https://t.co...  \n",
       "2  Another Test tweet that wasn't caught in the s...  \n",
       "3  Current Crypto Prices! \\n\\nBTC: $8721.99 USD\\n...  \n",
       "4  Spiv (Nosar Baz): BITCOIN Is An Asset &amp; NO...  "
      ]
     },
     "execution_count": 16,
     "metadata": {},
     "output_type": "execute_result"
    }
   ],
   "source": [
    "df_tweets.head()"
   ]
  },
  {
   "cell_type": "code",
   "execution_count": 17,
   "id": "b553878e",
   "metadata": {},
   "outputs": [
    {
     "name": "stdout",
     "output_type": "stream",
     "text": [
      "{'language': 'en', 'score': 0.999995713620739}\n"
     ]
    }
   ],
   "source": [
    "import spacy\n",
    "from spacy.language import Language\n",
    "from spacy_langdetect import LanguageDetector\n",
    "\n",
    "def get_lang_detector(nlp, name):\n",
    "    return LanguageDetector()\n",
    "\n",
    "nlp = spacy.load(\"en_core_web_sm\")\n",
    "Language.factory(\"language_detector2\", func=get_lang_detector)\n",
    "nlp.add_pipe('language_detector2', last=True)\n",
    "text = df_tweets.loc[2,'text\\r']\n",
    "doc = nlp(text)\n",
    "print(doc._.language)\n",
    "\n",
    "\n"
   ]
  },
  {
   "cell_type": "code",
   "execution_count": 20,
   "id": "78da633d",
   "metadata": {},
   "outputs": [
    {
     "name": "stdout",
     "output_type": "stream",
     "text": [
      "{'language': 'it', 'score': 0.9999964248299298}\n"
     ]
    }
   ],
   "source": [
    "text = df_tweets.loc[0,'text\\r']\n",
    "doc = nlp(text)\n",
    "print(doc._.language)\n"
   ]
  },
  {
   "cell_type": "code",
   "execution_count": 22,
   "id": "d6ac48ae",
   "metadata": {},
   "outputs": [],
   "source": [
    "def filter_language(row):\n",
    "    text = row['text\\r']\n",
    "    doc = nlp(text)\n",
    "    return doc._.language['language']"
   ]
  },
  {
   "cell_type": "code",
   "execution_count": null,
   "id": "efe95c65",
   "metadata": {},
   "outputs": [],
   "source": [
    "%%timeit\n",
    "df_tweets['language'] = df_tweets.apply(filter_language, axis = 1)"
   ]
  },
  {
   "cell_type": "code",
   "execution_count": null,
   "id": "0344b504",
   "metadata": {},
   "outputs": [],
   "source": [
    "df_tweets.head(30)"
   ]
  },
  {
   "cell_type": "code",
   "execution_count": null,
   "id": "1b082f78",
   "metadata": {},
   "outputs": [],
   "source": [
    "mask = df_tweets['language'] == 'en'\n",
    "\n",
    "df_tweets_en =  df_tweets[mask]"
   ]
  },
  {
   "cell_type": "code",
   "execution_count": null,
   "id": "6697417a",
   "metadata": {},
   "outputs": [],
   "source": []
  }
 ],
 "metadata": {
  "kernelspec": {
   "display_name": "Python 3",
   "language": "python",
   "name": "python3"
  },
  "language_info": {
   "codemirror_mode": {
    "name": "ipython",
    "version": 3
   },
   "file_extension": ".py",
   "mimetype": "text/x-python",
   "name": "python",
   "nbconvert_exporter": "python",
   "pygments_lexer": "ipython3",
   "version": "3.9.0"
  }
 },
 "nbformat": 4,
 "nbformat_minor": 5
}
